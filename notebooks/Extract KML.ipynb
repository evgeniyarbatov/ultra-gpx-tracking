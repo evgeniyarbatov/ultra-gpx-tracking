{
 "cells": [
  {
   "cell_type": "code",
   "execution_count": 13,
   "id": "fc32f653",
   "metadata": {},
   "outputs": [],
   "source": [
    "from fastkml import kml\n",
    "import pandas as pd"
   ]
  },
  {
   "cell_type": "code",
   "execution_count": 18,
   "id": "202faf3a",
   "metadata": {},
   "outputs": [],
   "source": [
    "with open('../data/SG200Miles2024.kml', 'rb') as kml_file:\n",
    "    k = kml.KML()\n",
    "    k.from_string(kml_file.read())\n",
    "\n",
    "folders_to_process = [\n",
    "    'Food, Drink & Restroom',\n",
    "    'Hospitals',\n",
    "]    \n",
    "    \n",
    "placemarks = []\n",
    "for doc in k.features():\n",
    "    for folder in doc.features():\n",
    "        if folder.name not in folders_to_process:\n",
    "            continue\n",
    "        \n",
    "        for placemark in folder.features():\n",
    "            if isinstance(placemark, kml.Placemark):\n",
    "                name = placemark.name\n",
    "                coords = placemark.geometry.coords[0]\n",
    "                placemarks.append({'name': name, 'latitude': coords[1], 'longitude': coords[0]})\n",
    "\n",
    "df = pd.DataFrame(placemarks)"
   ]
  },
  {
   "cell_type": "code",
   "execution_count": 19,
   "id": "4a611b36",
   "metadata": {},
   "outputs": [
    {
     "data": {
      "text/html": [
       "<div>\n",
       "<style scoped>\n",
       "    .dataframe tbody tr th:only-of-type {\n",
       "        vertical-align: middle;\n",
       "    }\n",
       "\n",
       "    .dataframe tbody tr th {\n",
       "        vertical-align: top;\n",
       "    }\n",
       "\n",
       "    .dataframe thead th {\n",
       "        text-align: right;\n",
       "    }\n",
       "</style>\n",
       "<table border=\"1\" class=\"dataframe\">\n",
       "  <thead>\n",
       "    <tr style=\"text-align: right;\">\n",
       "      <th></th>\n",
       "      <th>name</th>\n",
       "      <th>latitude</th>\n",
       "      <th>longitude</th>\n",
       "    </tr>\n",
       "  </thead>\n",
       "  <tbody>\n",
       "    <tr>\n",
       "      <th>0</th>\n",
       "      <td>ESSO WINDSOR</td>\n",
       "      <td>1.357934</td>\n",
       "      <td>103.828421</td>\n",
       "    </tr>\n",
       "    <tr>\n",
       "      <th>1</th>\n",
       "      <td>Toilet</td>\n",
       "      <td>1.360407</td>\n",
       "      <td>103.827069</td>\n",
       "    </tr>\n",
       "    <tr>\n",
       "      <th>2</th>\n",
       "      <td>Restrooms &amp; Toilet Facilities</td>\n",
       "      <td>1.370504</td>\n",
       "      <td>103.827834</td>\n",
       "    </tr>\n",
       "  </tbody>\n",
       "</table>\n",
       "</div>"
      ],
      "text/plain": [
       "                            name  latitude   longitude\n",
       "0                   ESSO WINDSOR  1.357934  103.828421\n",
       "1                         Toilet  1.360407  103.827069\n",
       "2  Restrooms & Toilet Facilities  1.370504  103.827834"
      ]
     },
     "execution_count": 19,
     "metadata": {},
     "output_type": "execute_result"
    }
   ],
   "source": [
    "df.head(3)"
   ]
  },
  {
   "cell_type": "code",
   "execution_count": 20,
   "id": "d0789c6f",
   "metadata": {},
   "outputs": [],
   "source": [
    "df.to_csv(\n",
    "    '../postgis/data/placemarks.csv', \n",
    "    columns=[\n",
    "        'name',\n",
    "        'latitude',\n",
    "        'longitude',\n",
    "    ],\n",
    "    header=False,\n",
    "    index=False,\n",
    ")"
   ]
  },
  {
   "cell_type": "code",
   "execution_count": null,
   "id": "944613d6",
   "metadata": {},
   "outputs": [],
   "source": []
  }
 ],
 "metadata": {
  "kernelspec": {
   "display_name": "Python 3 (ipykernel)",
   "language": "python",
   "name": "python3"
  },
  "language_info": {
   "codemirror_mode": {
    "name": "ipython",
    "version": 3
   },
   "file_extension": ".py",
   "mimetype": "text/x-python",
   "name": "python",
   "nbconvert_exporter": "python",
   "pygments_lexer": "ipython3",
   "version": "3.11.8"
  }
 },
 "nbformat": 4,
 "nbformat_minor": 5
}

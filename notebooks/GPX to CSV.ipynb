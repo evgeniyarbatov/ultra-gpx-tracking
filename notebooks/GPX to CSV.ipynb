{
 "cells": [
  {
   "cell_type": "code",
   "execution_count": 12,
   "id": "387047f9",
   "metadata": {},
   "outputs": [],
   "source": [
    "import pandas as pd\n",
    "import gpxpy\n",
    "\n",
    "from geopy.distance import geodesic\n",
    "from datetime import datetime, timedelta"
   ]
  },
  {
   "cell_type": "code",
   "execution_count": 13,
   "id": "3925bc39",
   "metadata": {},
   "outputs": [],
   "source": [
    "gpx_file = open('../data/SG200Miles2024.gpx', 'r')\n",
    "gpx = gpxpy.parse(gpx_file)"
   ]
  },
  {
   "cell_type": "code",
   "execution_count": 14,
   "id": "28656fcf",
   "metadata": {},
   "outputs": [],
   "source": [
    "data = []\n",
    "for track in gpx.tracks:\n",
    "    for segment in track.segments:\n",
    "        for point in segment.points:\n",
    "            data.append({'latitude': point.latitude, 'longitude': point.longitude})"
   ]
  },
  {
   "cell_type": "code",
   "execution_count": 21,
   "id": "7394a76d",
   "metadata": {},
   "outputs": [],
   "source": [
    "df = pd.DataFrame(data)\n",
    "\n",
    "df['prev_latitude'] = df['latitude'].shift(1)\n",
    "df['prev_longitude'] = df['longitude'].shift(1)"
   ]
  },
  {
   "cell_type": "code",
   "execution_count": 22,
   "id": "dbd8be6e",
   "metadata": {},
   "outputs": [
    {
     "data": {
      "text/html": [
       "<div>\n",
       "<style scoped>\n",
       "    .dataframe tbody tr th:only-of-type {\n",
       "        vertical-align: middle;\n",
       "    }\n",
       "\n",
       "    .dataframe tbody tr th {\n",
       "        vertical-align: top;\n",
       "    }\n",
       "\n",
       "    .dataframe thead th {\n",
       "        text-align: right;\n",
       "    }\n",
       "</style>\n",
       "<table border=\"1\" class=\"dataframe\">\n",
       "  <thead>\n",
       "    <tr style=\"text-align: right;\">\n",
       "      <th></th>\n",
       "      <th>latitude</th>\n",
       "      <th>longitude</th>\n",
       "      <th>prev_latitude</th>\n",
       "      <th>prev_longitude</th>\n",
       "    </tr>\n",
       "  </thead>\n",
       "  <tbody>\n",
       "    <tr>\n",
       "      <th>0</th>\n",
       "      <td>1.34228</td>\n",
       "      <td>103.83519</td>\n",
       "      <td>NaN</td>\n",
       "      <td>NaN</td>\n",
       "    </tr>\n",
       "    <tr>\n",
       "      <th>1</th>\n",
       "      <td>1.34265</td>\n",
       "      <td>103.83574</td>\n",
       "      <td>1.34228</td>\n",
       "      <td>103.83519</td>\n",
       "    </tr>\n",
       "    <tr>\n",
       "      <th>2</th>\n",
       "      <td>1.34276</td>\n",
       "      <td>103.83592</td>\n",
       "      <td>1.34265</td>\n",
       "      <td>103.83574</td>\n",
       "    </tr>\n",
       "  </tbody>\n",
       "</table>\n",
       "</div>"
      ],
      "text/plain": [
       "   latitude  longitude  prev_latitude  prev_longitude\n",
       "0   1.34228  103.83519            NaN             NaN\n",
       "1   1.34265  103.83574        1.34228       103.83519\n",
       "2   1.34276  103.83592        1.34265       103.83574"
      ]
     },
     "execution_count": 22,
     "metadata": {},
     "output_type": "execute_result"
    }
   ],
   "source": [
    "df.head(3)"
   ]
  },
  {
   "cell_type": "code",
   "execution_count": 28,
   "id": "2c758e13",
   "metadata": {},
   "outputs": [],
   "source": [
    "df['distance'] = df.apply(\n",
    "    lambda x: geodesic((x['prev_latitude'], x['prev_longitude']), (x['latitude'], x['longitude'])).meters if not pd.isna(x['prev_latitude']) and not pd.isna(x['prev_longitude']) else 0, \n",
    "    axis=1,\n",
    ")\n",
    "df['accumulated_distance'] = df['distance'].cumsum() / 1000.0"
   ]
  },
  {
   "cell_type": "code",
   "execution_count": 29,
   "id": "68f61b01",
   "metadata": {},
   "outputs": [],
   "source": [
    "time_at_each_point = []\n",
    "\n",
    "cutoff_time_hours = 74\n",
    "total_distance = df['accumulated_distance'].iloc[-1]\n",
    "required_pace = total_distance / cutoff_time_hours\n",
    "\n",
    "start_time = datetime(2024, 5, 17, 21, 0, 0) \n",
    "current_time = start_time\n",
    "\n",
    "for i in range(len(df)):\n",
    "    time_at_each_point.append(current_time)\n",
    "    required_pace_per_hour = (df['distance'].iloc[i] / 1000.0) / required_pace\n",
    "    current_time += timedelta(hours=required_pace_per_hour)\n",
    "\n",
    "df['estimated_time'] = time_at_each_point"
   ]
  },
  {
   "cell_type": "code",
   "execution_count": 32,
   "id": "669d717e",
   "metadata": {},
   "outputs": [
    {
     "data": {
      "text/html": [
       "<div>\n",
       "<style scoped>\n",
       "    .dataframe tbody tr th:only-of-type {\n",
       "        vertical-align: middle;\n",
       "    }\n",
       "\n",
       "    .dataframe tbody tr th {\n",
       "        vertical-align: top;\n",
       "    }\n",
       "\n",
       "    .dataframe thead th {\n",
       "        text-align: right;\n",
       "    }\n",
       "</style>\n",
       "<table border=\"1\" class=\"dataframe\">\n",
       "  <thead>\n",
       "    <tr style=\"text-align: right;\">\n",
       "      <th></th>\n",
       "      <th>latitude</th>\n",
       "      <th>longitude</th>\n",
       "      <th>prev_latitude</th>\n",
       "      <th>prev_longitude</th>\n",
       "      <th>distance</th>\n",
       "      <th>accumulated_distance</th>\n",
       "      <th>estimated_time</th>\n",
       "    </tr>\n",
       "  </thead>\n",
       "  <tbody>\n",
       "    <tr>\n",
       "      <th>0</th>\n",
       "      <td>1.34228</td>\n",
       "      <td>103.83519</td>\n",
       "      <td>NaN</td>\n",
       "      <td>NaN</td>\n",
       "      <td>0.000000</td>\n",
       "      <td>0.000000</td>\n",
       "      <td>2024-05-17 21:00:00.000000</td>\n",
       "    </tr>\n",
       "    <tr>\n",
       "      <th>1</th>\n",
       "      <td>1.34265</td>\n",
       "      <td>103.83574</td>\n",
       "      <td>1.34228</td>\n",
       "      <td>103.83519</td>\n",
       "      <td>73.616069</td>\n",
       "      <td>0.073616</td>\n",
       "      <td>2024-05-17 21:00:00.000000</td>\n",
       "    </tr>\n",
       "    <tr>\n",
       "      <th>2</th>\n",
       "      <td>1.34276</td>\n",
       "      <td>103.83592</td>\n",
       "      <td>1.34265</td>\n",
       "      <td>103.83574</td>\n",
       "      <td>23.438023</td>\n",
       "      <td>0.097054</td>\n",
       "      <td>2024-05-17 21:01:00.983782</td>\n",
       "    </tr>\n",
       "  </tbody>\n",
       "</table>\n",
       "</div>"
      ],
      "text/plain": [
       "   latitude  longitude  prev_latitude  prev_longitude   distance  \\\n",
       "0   1.34228  103.83519            NaN             NaN   0.000000   \n",
       "1   1.34265  103.83574        1.34228       103.83519  73.616069   \n",
       "2   1.34276  103.83592        1.34265       103.83574  23.438023   \n",
       "\n",
       "   accumulated_distance             estimated_time  \n",
       "0              0.000000 2024-05-17 21:00:00.000000  \n",
       "1              0.073616 2024-05-17 21:00:00.000000  \n",
       "2              0.097054 2024-05-17 21:01:00.983782  "
      ]
     },
     "execution_count": 32,
     "metadata": {},
     "output_type": "execute_result"
    }
   ],
   "source": [
    "df.head(3)"
   ]
  },
  {
   "cell_type": "code",
   "execution_count": 33,
   "id": "a7d6f826",
   "metadata": {},
   "outputs": [],
   "source": [
    "df.to_csv(\n",
    "    '../postgis/data/gpx-route.csv', \n",
    "    columns=['latitude','longitude','accumulated_distance','estimated_time'],\n",
    "    header=False,\n",
    "    index=False,\n",
    ")"
   ]
  },
  {
   "cell_type": "code",
   "execution_count": null,
   "id": "17ecbc84",
   "metadata": {},
   "outputs": [],
   "source": []
  }
 ],
 "metadata": {
  "kernelspec": {
   "display_name": "Python 3 (ipykernel)",
   "language": "python",
   "name": "python3"
  },
  "language_info": {
   "codemirror_mode": {
    "name": "ipython",
    "version": 3
   },
   "file_extension": ".py",
   "mimetype": "text/x-python",
   "name": "python",
   "nbconvert_exporter": "python",
   "pygments_lexer": "ipython3",
   "version": "3.11.8"
  }
 },
 "nbformat": 4,
 "nbformat_minor": 5
}

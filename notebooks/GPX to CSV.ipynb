{
 "cells": [
  {
   "cell_type": "code",
   "execution_count": 1,
   "id": "fd90e019",
   "metadata": {},
   "outputs": [],
   "source": [
    "import pandas as pd\n",
    "import gpxpy\n",
    "from geopy.distance import geodesic"
   ]
  },
  {
   "cell_type": "code",
   "execution_count": 2,
   "id": "bb52c337",
   "metadata": {},
   "outputs": [],
   "source": [
    "gpx_file = open('../data/SG200Miles2024.gpx', 'r')\n",
    "gpx = gpxpy.parse(gpx_file)"
   ]
  },
  {
   "cell_type": "code",
   "execution_count": 3,
   "id": "ad2e151f",
   "metadata": {},
   "outputs": [],
   "source": [
    "data = []\n",
    "for track in gpx.tracks:\n",
    "    for segment in track.segments:\n",
    "        for point in segment.points:\n",
    "            data.append({'latitude': point.latitude, 'longitude': point.longitude})"
   ]
  },
  {
   "cell_type": "code",
   "execution_count": 4,
   "id": "e2e2ddd5",
   "metadata": {},
   "outputs": [],
   "source": [
    "df = pd.DataFrame(data)\n",
    "\n",
    "df['prev_latitude'] = df['latitude'].shift(1)\n",
    "df['prev_longitude'] = df['longitude'].shift(1)\n",
    "\n",
    "df = df.dropna().reset_index(drop=True)"
   ]
  },
  {
   "cell_type": "code",
   "execution_count": 7,
   "id": "af410a97",
   "metadata": {},
   "outputs": [],
   "source": [
    "df['distance'] = df.apply(lambda x: geodesic((x['prev_latitude'], x['prev_longitude']), (x['latitude'], x['longitude'])).meters, axis=1)\n",
    "df['accumulated_distance'] = df['distance'].cumsum() / 1000.0"
   ]
  },
  {
   "cell_type": "code",
   "execution_count": 8,
   "id": "caaca7d5",
   "metadata": {},
   "outputs": [
    {
     "data": {
      "text/html": [
       "<div>\n",
       "<style scoped>\n",
       "    .dataframe tbody tr th:only-of-type {\n",
       "        vertical-align: middle;\n",
       "    }\n",
       "\n",
       "    .dataframe tbody tr th {\n",
       "        vertical-align: top;\n",
       "    }\n",
       "\n",
       "    .dataframe thead th {\n",
       "        text-align: right;\n",
       "    }\n",
       "</style>\n",
       "<table border=\"1\" class=\"dataframe\">\n",
       "  <thead>\n",
       "    <tr style=\"text-align: right;\">\n",
       "      <th></th>\n",
       "      <th>latitude</th>\n",
       "      <th>longitude</th>\n",
       "      <th>prev_latitude</th>\n",
       "      <th>prev_longitude</th>\n",
       "      <th>distance</th>\n",
       "      <th>accumulated_distance</th>\n",
       "    </tr>\n",
       "  </thead>\n",
       "  <tbody>\n",
       "    <tr>\n",
       "      <th>0</th>\n",
       "      <td>1.34265</td>\n",
       "      <td>103.83574</td>\n",
       "      <td>1.34228</td>\n",
       "      <td>103.83519</td>\n",
       "      <td>73.616069</td>\n",
       "      <td>0.073616</td>\n",
       "    </tr>\n",
       "    <tr>\n",
       "      <th>1</th>\n",
       "      <td>1.34276</td>\n",
       "      <td>103.83592</td>\n",
       "      <td>1.34265</td>\n",
       "      <td>103.83574</td>\n",
       "      <td>23.438023</td>\n",
       "      <td>0.097054</td>\n",
       "    </tr>\n",
       "    <tr>\n",
       "      <th>2</th>\n",
       "      <td>1.34300</td>\n",
       "      <td>103.83631</td>\n",
       "      <td>1.34276</td>\n",
       "      <td>103.83592</td>\n",
       "      <td>50.877286</td>\n",
       "      <td>0.147931</td>\n",
       "    </tr>\n",
       "  </tbody>\n",
       "</table>\n",
       "</div>"
      ],
      "text/plain": [
       "   latitude  longitude  prev_latitude  prev_longitude   distance  \\\n",
       "0   1.34265  103.83574        1.34228       103.83519  73.616069   \n",
       "1   1.34276  103.83592        1.34265       103.83574  23.438023   \n",
       "2   1.34300  103.83631        1.34276       103.83592  50.877286   \n",
       "\n",
       "   accumulated_distance  \n",
       "0              0.073616  \n",
       "1              0.097054  \n",
       "2              0.147931  "
      ]
     },
     "execution_count": 8,
     "metadata": {},
     "output_type": "execute_result"
    }
   ],
   "source": [
    "df.head(3)"
   ]
  },
  {
   "cell_type": "code",
   "execution_count": 10,
   "id": "55e5ed0d",
   "metadata": {},
   "outputs": [],
   "source": [
    "df.to_csv(\n",
    "    '../postgis/data/gpx-route.csv', \n",
    "    columns=['latitude','longitude','accumulated_distance'],\n",
    "    header=False,\n",
    "    index=False,\n",
    ")"
   ]
  },
  {
   "cell_type": "code",
   "execution_count": null,
   "id": "4f8e67f9",
   "metadata": {},
   "outputs": [],
   "source": []
  }
 ],
 "metadata": {
  "kernelspec": {
   "display_name": "Python 3 (ipykernel)",
   "language": "python",
   "name": "python3"
  },
  "language_info": {
   "codemirror_mode": {
    "name": "ipython",
    "version": 3
   },
   "file_extension": ".py",
   "mimetype": "text/x-python",
   "name": "python",
   "nbconvert_exporter": "python",
   "pygments_lexer": "ipython3",
   "version": "3.11.8"
  }
 },
 "nbformat": 4,
 "nbformat_minor": 5
}
